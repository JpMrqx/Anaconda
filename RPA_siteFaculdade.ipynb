{
 "cells": [
  {
   "cell_type": "code",
   "execution_count": 2,
   "id": "c7457ca9",
   "metadata": {},
   "outputs": [],
   "source": [
    "import pyautogui as pag"
   ]
  },
  {
   "cell_type": "code",
   "execution_count": 3,
   "id": "81c58a4f",
   "metadata": {
    "scrolled": true
   },
   "outputs": [],
   "source": [
    "import time"
   ]
  },
  {
   "cell_type": "code",
   "execution_count": 10,
   "id": "9a25f165",
   "metadata": {},
   "outputs": [],
   "source": []
  },
  {
   "cell_type": "code",
   "execution_count": 4,
   "id": "1c4e5546",
   "metadata": {},
   "outputs": [],
   "source": [
    "pag.alert('Abrindo o site e logando,favor não utilizar o mouse e teclado no momento')\n",
    "pag.PAUSE = 1\n",
    "pag.press('winleft')\n",
    "pag.write('chrome')\n",
    "pag.press('enter')\n",
    "time.sleep(1)\n",
    "\n",
    "#formularioPortalAluno\n",
    "pag.write('https://portal.unicarioca.edu.br/modulos/aluno/login.php5')\n",
    "pag.press('enter')\n",
    "time.sleep(4)\n",
    "pag.moveTo(1139, 536)\n",
    "pag.click()\n",
    "\n",
    "#UnidadePortal\n",
    "pag.moveTo(1124, 710)\n",
    "pag.click()\n",
    "time.sleep(1)\n",
    "\n",
    "#UsuarioPortal\n",
    "pag.write('2021100844')\n",
    "pag.press('tab')\n",
    "\n",
    "#SenhaPortal\n",
    "pag.write('jp300101')\n",
    "\n",
    "\n",
    "#Mudança de abas\n",
    "time.sleep(2)\n",
    "\n",
    "#FormularioAVA\n",
    "pag.hotkey('ctrl','t')\n",
    "time.sleep(1)\n",
    "pag.write('https://ava.unicarioca.edu.br')\n",
    "pag.press('enter')\n",
    "time.sleep(1)\n",
    "\n",
    "#loginAVA\n",
    "pag.moveTo(852, 374)\n",
    "time.sleep(2)\n",
    "pag.click()\n",
    "pag.write('2021100844')\n",
    "time.sleep(1)\n",
    "\n",
    "#senhaAVA\n",
    "pag.press('tab')\n",
    "pag.write('jp300101')\n"
   ]
  },
  {
   "cell_type": "code",
   "execution_count": 83,
   "id": "74d51e8c",
   "metadata": {},
   "outputs": [],
   "source": [
    "#pag.position()"
   ]
  },
  {
   "cell_type": "code",
   "execution_count": null,
   "id": "e52465f9",
   "metadata": {},
   "outputs": [],
   "source": []
  },
  {
   "cell_type": "code",
   "execution_count": null,
   "id": "2bf0dfae",
   "metadata": {},
   "outputs": [],
   "source": [
    "\n"
   ]
  }
 ],
 "metadata": {
  "kernelspec": {
   "display_name": "Python 3 (ipykernel)",
   "language": "python",
   "name": "python3"
  },
  "language_info": {
   "codemirror_mode": {
    "name": "ipython",
    "version": 3
   },
   "file_extension": ".py",
   "mimetype": "text/x-python",
   "name": "python",
   "nbconvert_exporter": "python",
   "pygments_lexer": "ipython3",
   "version": "3.9.16"
  }
 },
 "nbformat": 4,
 "nbformat_minor": 5
}
